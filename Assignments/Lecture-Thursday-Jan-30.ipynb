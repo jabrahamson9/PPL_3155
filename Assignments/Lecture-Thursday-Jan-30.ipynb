{
 "cells": [
  {
   "cell_type": "markdown",
   "metadata": {},
   "source": [
    "# Abstract Syntax"
   ]
  },
  {
   "cell_type": "code",
   "execution_count": 3,
   "metadata": {},
   "outputs": [
    {
     "data": {
      "text/plain": [
       "defined \u001b[32mtrait\u001b[39m \u001b[36mExpr\u001b[39m\n",
       "defined \u001b[32mclass\u001b[39m \u001b[36mPlus\u001b[39m\n",
       "defined \u001b[32mclass\u001b[39m \u001b[36mMinus\u001b[39m\n",
       "defined \u001b[32mclass\u001b[39m \u001b[36mStar\u001b[39m\n",
       "defined \u001b[32mclass\u001b[39m \u001b[36mDiv\u001b[39m\n",
       "defined \u001b[32mclass\u001b[39m \u001b[36mConst\u001b[39m\n",
       "defined \u001b[32mclass\u001b[39m \u001b[36mVar\u001b[39m"
      ]
     },
     "execution_count": 3,
     "metadata": {},
     "output_type": "execute_result"
    }
   ],
   "source": [
    "sealed trait Expr\n",
    "case class Plus(eList: List[Expr]) extends Expr\n",
    "case class Minus(e1: Expr, e2: Expr) extends Expr\n",
    "case class Star(e1: Expr, e2: Expr) extends Expr\n",
    "case class Div(e1: Expr, e2: Expr) extends Expr\n",
    "case class Const(d: Double) extends Expr\n",
    "case class Var(x: String) extends Expr"
   ]
  },
  {
   "cell_type": "code",
   "execution_count": 4,
   "metadata": {},
   "outputs": [
    {
     "data": {
      "text/plain": [
       "\u001b[36mv1\u001b[39m: \u001b[32mStar\u001b[39m = \u001b[33mStar\u001b[39m(\u001b[33mPlus\u001b[39m(\u001b[33mVar\u001b[39m(\u001b[32m\"x\"\u001b[39m), \u001b[33mVar\u001b[39m(\u001b[32m\"y\"\u001b[39m)), \u001b[33mVar\u001b[39m(\u001b[32m\"z\"\u001b[39m))"
      ]
     },
     "execution_count": 4,
     "metadata": {},
     "output_type": "execute_result"
    }
   ],
   "source": [
    "val v1 = Star(Plus(Var(\"x\"), Var(\"y\")), Var(\"z\"))"
   ]
  },
  {
   "cell_type": "code",
   "execution_count": 5,
   "metadata": {},
   "outputs": [
    {
     "data": {
      "text/plain": [
       "defined \u001b[32mfunction\u001b[39m \u001b[36mcollectVarBinaryOp\u001b[39m\n",
       "defined \u001b[32mfunction\u001b[39m \u001b[36mcollectAllVars\u001b[39m"
      ]
     },
     "execution_count": 5,
     "metadata": {},
     "output_type": "execute_result"
    }
   ],
   "source": [
    "def collectVarBinaryOp(e1: Expr, e2: Expr) = {\n",
    "        val l1 = collectAllVars(e1)\n",
    "        val l2 = collectAllVars(e2)\n",
    "        l1 ++ l2\n",
    "    }\n",
    "\n",
    "def collectAllVars(e: Expr): List[String] =  e match {\n",
    "    case Plus(e1, e2) =>  collectVarBinaryOp(e1, e2)\n",
    "    case Minus(e1, e2) => collectVarBinaryOp(e1, e2)\n",
    "    case Star(e1, e2) => collectVarBinaryOp(e1, e2)\n",
    "    case Div(e1, e2) => collectVarBinaryOp(e1, e2)\n",
    "    case Const(f) => List[String]()\n",
    "    case Var(x) => List[String](x)\n",
    "    case _ => throw new IllegalArgumentException(\"You hit a case that I have not handled. Sorry!\")\n",
    "    \n",
    "}"
   ]
  },
  {
   "cell_type": "code",
   "execution_count": 6,
   "metadata": {},
   "outputs": [
    {
     "data": {
      "text/plain": [
       "defined \u001b[32mfunction\u001b[39m \u001b[36mevalBinaryOp\u001b[39m\n",
       "defined \u001b[32mfunction\u001b[39m \u001b[36meval\u001b[39m"
      ]
     },
     "execution_count": 6,
     "metadata": {},
     "output_type": "execute_result"
    }
   ],
   "source": [
    "//Writing a visitor\n",
    "\n",
    "def evalBinaryOp(e1: Expr, e2: Expr, env: Map[String, Double], fun: (Double , Double) => Double) = {\n",
    "    val f1 = eval(e1, env)\n",
    "    val f2 = eval(e2, env)\n",
    "    fun(f1, f2)\n",
    "}\n",
    "\n",
    "def eval(e: Expr, env: Map[String, Double]): Double = e match {\n",
    "    case Plus(e1, e2) => {\n",
    "        evalBinaryOp(e1, e2, env, (_ + _ ))\n",
    "    }\n",
    "    \n",
    "    case Minus(e1, e2) => {\n",
    "      evalBinaryOp(e1, e2, env, (_ - _ ))\n",
    "    }\n",
    "    \n",
    "    case Star(e1, e2) => {\n",
    "      evalBinaryOp(e1, e2, env, (_ * _ ))\n",
    "    }\n",
    "    \n",
    "    case Div(e1, e2) => {\n",
    "      evalBinaryOp(e1, e2, env, (_ / _ ))\n",
    "    }\n",
    "    \n",
    "    case Const(f) => f\n",
    "    \n",
    "    case Var(x) => {\n",
    "        if (env.contains(x)) {\n",
    "            env(x)\n",
    "        } else {\n",
    "            throw new IllegalArgumentException(s\"How dare you ask me to evaluate an expression without defining the variables $x!\")\n",
    "        }\n",
    "    }\n",
    "    \n",
    "    \n",
    "    \n",
    "    \n",
    "    \n",
    "}"
   ]
  },
  {
   "cell_type": "code",
   "execution_count": 8,
   "metadata": {},
   "outputs": [
    {
     "ename": "",
     "evalue": "",
     "output_type": "error",
     "traceback": [
      "\u001b[31mjava.lang.IllegalArgumentException: How dare you ask me to evaluate an expression without defining the variables y!\u001b[39m\n  ammonite.$sess.cmd5$Helper.eval(\u001b[32mcmd5.sc\u001b[39m:\u001b[32m30\u001b[39m)\n  ammonite.$sess.cmd5$Helper.evalBinaryOp(\u001b[32mcmd5.sc\u001b[39m:\u001b[32m3\u001b[39m)\n  ammonite.$sess.cmd5$Helper.eval(\u001b[32mcmd5.sc\u001b[39m:\u001b[32m9\u001b[39m)\n  ammonite.$sess.cmd5$Helper.evalBinaryOp(\u001b[32mcmd5.sc\u001b[39m:\u001b[32m2\u001b[39m)\n  ammonite.$sess.cmd5$Helper.eval(\u001b[32mcmd5.sc\u001b[39m:\u001b[32m17\u001b[39m)\n  ammonite.$sess.cmd7$Helper.<init>(\u001b[32mcmd7.sc\u001b[39m:\u001b[32m1\u001b[39m)\n  ammonite.$sess.cmd7$.<init>(\u001b[32mcmd7.sc\u001b[39m:\u001b[32m7\u001b[39m)\n  ammonite.$sess.cmd7$.<clinit>(\u001b[32mcmd7.sc\u001b[39m:\u001b[32m-1\u001b[39m)"
     ]
    }
   ],
   "source": [
    "eval (v1, Map(\"x\"->5.0, \"z\" -> 4.0))"
   ]
  },
  {
   "cell_type": "code",
   "execution_count": null,
   "metadata": {},
   "outputs": [],
   "source": []
  }
 ],
 "metadata": {
  "kernelspec": {
   "display_name": "Scala",
   "language": "scala",
   "name": "scala"
  },
  "language_info": {
   "codemirror_mode": "text/x-scala",
   "file_extension": ".scala",
   "mimetype": "text/x-scala",
   "name": "scala",
   "nbconvert_exporter": "script",
   "version": "2.12.10"
  }
 },
 "nbformat": 4,
 "nbformat_minor": 2
}
