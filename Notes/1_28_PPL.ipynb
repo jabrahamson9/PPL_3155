{
 "cells": [
  {
   "cell_type": "markdown",
   "metadata": {},
   "source": [
    "Nonterminal : List, Number\n",
    "\n",
    "List => nil\n",
    "List => Cons(Number, List)\n",
    "Number => ... scala integer ..\n"
   ]
  },
  {
   "cell_type": "code",
   "execution_count": 11,
   "metadata": {},
   "outputs": [
    {
     "data": {
      "text/plain": [
       "defined \u001b[32mtrait\u001b[39m \u001b[36mList\u001b[39m\r\n",
       "defined \u001b[32mobject\u001b[39m \u001b[36mNil\u001b[39m\r\n",
       "defined \u001b[32mclass\u001b[39m \u001b[36mCons\u001b[39m"
      ]
     },
     "execution_count": 11,
     "metadata": {},
     "output_type": "execute_result"
    }
   ],
   "source": [
    "sealed trait List{\n",
    "    def length(): Int\n",
    "    def isEmpty(): Boolean\n",
    "    def retrieveFirstElement(): Int\n",
    "    def isAscendingOrder(): Boolean\n",
    "}\n",
    "case object Nil extends List {\n",
    "    def length(): Int = { 0 }\n",
    "    def isEmpty(): Boolean = true\n",
    "    def retrieveFirstElement(): Int = { assert (false); return 0}\n",
    "    def isAscendingOrder(): Boolean = true\n",
    "}\n",
    "case class Cons(i: Int, l: List) extends List{\n",
    "    def length(): Int = 1 + l.length()\n",
    "    def isEmpty(): Boolean = false\n",
    "    def retrieveFirstElement(): Int = i\n",
    "    def isAscendingOrder(): Boolean = {\n",
    "        if (l.isEmpty) {\n",
    "            true\n",
    "        }\n",
    "        else{\n",
    "            val j = l.retrieveFirstElement()\n",
    "            if (i<=j){\n",
    "                return l.isAscendingOrder()\n",
    "            }\n",
    "            else{\n",
    "                return false\n",
    "            }\n",
    "        }\n",
    "    }\n",
    "}"
   ]
  },
  {
   "cell_type": "code",
   "execution_count": 6,
   "metadata": {},
   "outputs": [
    {
     "data": {
      "text/plain": [
       "\u001b[36mres5\u001b[39m: \u001b[32mcollection\u001b[39m.\u001b[32mimmutable\u001b[39m.\u001b[32mList\u001b[39m[\u001b[32mInt\u001b[39m] = \u001b[33mList\u001b[39m(\u001b[32m1\u001b[39m, \u001b[32m2\u001b[39m, \u001b[32m3\u001b[39m)"
      ]
     },
     "execution_count": 6,
     "metadata": {},
     "output_type": "execute_result"
    }
   ],
   "source": [
    "List(1, 2, 3)"
   ]
  },
  {
   "cell_type": "code",
   "execution_count": 8,
   "metadata": {},
   "outputs": [
    {
     "data": {
      "text/plain": [
       "\u001b[36mv1\u001b[39m: \u001b[32mCons\u001b[39m = \u001b[33mCons\u001b[39m(\u001b[32m1\u001b[39m, \u001b[33mCons\u001b[39m(\u001b[32m2\u001b[39m, \u001b[33mCons\u001b[39m(\u001b[32m3\u001b[39m, Nil)))"
      ]
     },
     "execution_count": 8,
     "metadata": {},
     "output_type": "execute_result"
    }
   ],
   "source": [
    "val v1 = Cons(1, Cons(2, Cons(3, Nil)))"
   ]
  },
  {
   "cell_type": "code",
   "execution_count": 10,
   "metadata": {},
   "outputs": [
    {
     "data": {
      "text/plain": [
       "\u001b[36mn1\u001b[39m: \u001b[32mInt\u001b[39m = \u001b[32m3\u001b[39m"
      ]
     },
     "execution_count": 10,
     "metadata": {},
     "output_type": "execute_result"
    }
   ],
   "source": [
    "val n1 = v1.length()"
   ]
  },
  {
   "cell_type": "code",
   "execution_count": 12,
   "metadata": {},
   "outputs": [
    {
     "data": {
      "text/plain": [
       "defined \u001b[32mfunction\u001b[39m \u001b[36mlistHasAtLeastTwoElements\u001b[39m"
      ]
     },
     "execution_count": 12,
     "metadata": {},
     "output_type": "execute_result"
    }
   ],
   "source": [
    "def listHasAtLeastTwoElements(lst: List): Boolean = lst match {\n",
    "    case Nil => false\n",
    "    case Cons( _ , Nil) => false\n",
    "    case _ => true\n",
    "}"
   ]
  },
  {
   "cell_type": "code",
   "execution_count": 13,
   "metadata": {},
   "outputs": [
    {
     "data": {
      "text/plain": [
       "defined \u001b[32mtrait\u001b[39m \u001b[36mBinaryTree\u001b[39m\r\n",
       "defined \u001b[32mobject\u001b[39m \u001b[36mLeaf\u001b[39m\r\n",
       "defined \u001b[32mclass\u001b[39m \u001b[36mNode\u001b[39m"
      ]
     },
     "execution_count": 13,
     "metadata": {},
     "output_type": "execute_result"
    }
   ],
   "source": [
    "sealed trait BinaryTree\n",
    "case object Leaf extends BinaryTree\n",
    "case class Node (i: Int, leftSubTree: BinaryTree, rightSubTree: BinaryTree) extends BinaryTree"
   ]
  },
  {
   "cell_type": "code",
   "execution_count": null,
   "metadata": {},
   "outputs": [],
   "source": []
  }
 ],
 "metadata": {
  "kernelspec": {
   "display_name": "Scala",
   "language": "scala",
   "name": "scala"
  },
  "language_info": {
   "codemirror_mode": "text/x-scala",
   "file_extension": ".scala",
   "mimetype": "text/x-scala",
   "name": "scala",
   "nbconvert_exporter": "script",
   "version": "2.12.10"
  }
 },
 "nbformat": 4,
 "nbformat_minor": 2
}
