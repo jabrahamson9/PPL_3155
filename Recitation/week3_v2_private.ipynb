{
 "cells": [
  {
   "cell_type": "markdown",
   "metadata": {},
   "source": [
    "# Recitation 3\n",
    "\n",
    "Topics: ASTs, higher order functions, pattern functions"
   ]
  },
  {
   "cell_type": "markdown",
   "metadata": {},
   "source": [
    "## Lists and Pattern Matching"
   ]
  },
  {
   "cell_type": "markdown",
   "metadata": {},
   "source": [
    "Our inductive structure of choice for this problem is a linked list. The grammar below defines the structure.\n",
    "$$\n",
    "\\begin{array}{rcl}\n",
    "    \\textbf{NumList} & \\rightarrow & MyNil \\\\\n",
    "                     &           | & MyCons(\\textbf{Int}, \\textbf{NumList}) \\\\\n",
    "\\end{array}\n",
    "$$"
   ]
  },
  {
   "cell_type": "markdown",
   "metadata": {},
   "source": [
    "### Exercise: Write the Scala Types\n",
    "\n",
    "Define the Scala classes based on this grammar."
   ]
  },
  {
   "cell_type": "code",
   "execution_count": 1,
   "metadata": {},
   "outputs": [
    {
     "data": {
      "text/plain": [
       "defined \u001b[32mtrait\u001b[39m \u001b[36mNumList\u001b[39m\n",
       "defined \u001b[32mobject\u001b[39m \u001b[36mMyNil\u001b[39m\n",
       "defined \u001b[32mclass\u001b[39m \u001b[36mMyCons\u001b[39m"
      ]
     },
     "execution_count": 1,
     "metadata": {},
     "output_type": "execute_result"
    }
   ],
   "source": [
    "// BEGIN SOLUTION\n",
    "sealed trait NumList\n",
    "case object MyNil extends NumList\n",
    "case class MyCons(firstElement : Int, restOfList : NumList) extends NumList\n",
    "// END SOLUTION"
   ]
  },
  {
   "cell_type": "markdown",
   "metadata": {},
   "source": [
    "### Exercise: Writing lists\n",
    "Write out the following lists with our `NumList` class.\n",
    "\n",
    "1. `[]` (The empty list)\n",
    "2. `[1, 2, 3]`"
   ]
  },
  {
   "cell_type": "code",
   "execution_count": 2,
   "metadata": {},
   "outputs": [
    {
     "data": {
      "text/plain": [
       "\u001b[36mans_1\u001b[39m: \u001b[32mMyNil\u001b[39m = MyNil\n",
       "\u001b[36mans_2\u001b[39m: \u001b[32mMyCons\u001b[39m = \u001b[33mMyCons\u001b[39m(\u001b[32m1\u001b[39m, \u001b[33mMyCons\u001b[39m(\u001b[32m2\u001b[39m, \u001b[33mMyCons\u001b[39m(\u001b[32m3\u001b[39m, MyNil)))"
      ]
     },
     "execution_count": 2,
     "metadata": {},
     "output_type": "execute_result"
    }
   ],
   "source": [
    "// BEGIN SOLUTION\n",
    "val ans_1 = MyNil\n",
    "val ans_2 = MyCons(1, MyCons(2, MyCons(3, MyNil)))\n",
    "// END SOLUTION"
   ]
  },
  {
   "cell_type": "markdown",
   "metadata": {},
   "source": [
    "### Exercise: Length of list\n",
    "Implement a `myLength` function for our list type using [pattern matching](https://docs.scala-lang.org/tour/pattern-matching.html)."
   ]
  },
  {
   "cell_type": "code",
   "execution_count": 3,
   "metadata": {},
   "outputs": [
    {
     "data": {
      "text/plain": [
       "defined \u001b[32mfunction\u001b[39m \u001b[36mmyLength\u001b[39m"
      ]
     },
     "execution_count": 3,
     "metadata": {},
     "output_type": "execute_result"
    }
   ],
   "source": [
    "def myLength(list : NumList) : Int = {\n",
    "    // BEGIN SOLUTION\n",
    "    list match {\n",
    "        case MyNil => 0\n",
    "        case MyCons(firstElement, restOfList) => 1 + myLength(restOfList)\n",
    "    }\n",
    "    // END SOLUTION\n",
    "}"
   ]
  },
  {
   "cell_type": "code",
   "execution_count": 4,
   "metadata": {},
   "outputs": [],
   "source": [
    "assert(myLength(MyNil) == 0)\n",
    "assert(myLength(MyCons(1, MyCons(2, MyNil))) == 2)"
   ]
  },
  {
   "cell_type": "markdown",
   "metadata": {},
   "source": [
    "### Exercise: Translate to built in lists\n",
    "Rewrite `length` to use [Scala's list class](https://www.scala-lang.org/api/current/scala/collection/immutable/List.html), which is very similar to the one defined above. The table below shows the equivalences:\n",
    "\n",
    "|`NumList`      | `List[Int]`|\n",
    "|---------------|------------|\n",
    "|`MyNil`        | `Nil`      |\n",
    "|`MyCons(a, b)` | `a :: b`   |"
   ]
  },
  {
   "cell_type": "code",
   "execution_count": 5,
   "metadata": {},
   "outputs": [
    {
     "data": {
      "text/plain": [
       "defined \u001b[32mfunction\u001b[39m \u001b[36mlength\u001b[39m"
      ]
     },
     "execution_count": 5,
     "metadata": {},
     "output_type": "execute_result"
    }
   ],
   "source": [
    "def length(list : List[Int]) : Int = {\n",
    "    // BEGIN SOLUTION\n",
    "    list match {\n",
    "        case Nil => 0\n",
    "        case firstElement :: restOfList => 1 + length(restOfList)\n",
    "    }\n",
    "    \n",
    "    // END SOLUTION\n",
    "}"
   ]
  },
  {
   "cell_type": "code",
   "execution_count": 6,
   "metadata": {},
   "outputs": [],
   "source": [
    "assert(length(List()) == 0)\n",
    "assert(length(List(1, 2, 3)) == 3)"
   ]
  },
  {
   "cell_type": "markdown",
   "metadata": {},
   "source": [
    "### Exercise: Count the Number of Even Elements\n",
    "Write a function that counts the number of even elements in the list.\n",
    "\n",
    "E.g. countEven(List(1,2,3,4,5)) = 2"
   ]
  },
  {
   "cell_type": "code",
   "execution_count": 7,
   "metadata": {},
   "outputs": [
    {
     "data": {
      "text/plain": [
       "defined \u001b[32mfunction\u001b[39m \u001b[36mcountEven\u001b[39m"
      ]
     },
     "execution_count": 7,
     "metadata": {},
     "output_type": "execute_result"
    }
   ],
   "source": [
    "def countEven(list:List[Int]):Int = {\n",
    "    // BEGIN SOLUTION\n",
    "    list match{\n",
    "        case Nil => 0\n",
    "        case firstElement :: restOfList if(firstElement%2 == 0) => 1+countEven(restOfList)\n",
    "        case firstElement :: restOfList => countEven(restOfList)\n",
    "    }\n",
    "    // END SOLUTION\n",
    "}"
   ]
  },
  {
   "cell_type": "code",
   "execution_count": 8,
   "metadata": {},
   "outputs": [],
   "source": [
    "assert(countEven(List(1,2,3,4,5)) == 2)\n",
    "assert(countEven(List()) == 0)"
   ]
  },
  {
   "cell_type": "markdown",
   "metadata": {},
   "source": [
    "### Exercise: Drop Until Size is Reached\n",
    "Write a function that takes a list and a number.  The function removes elements from the front of the list until the list is a given length.\n",
    "\n",
    "E.g. dropN(List(1,2,3,4), 2) = List(3,4)"
   ]
  },
  {
   "cell_type": "code",
   "execution_count": 9,
   "metadata": {},
   "outputs": [
    {
     "data": {
      "text/plain": [
       "defined \u001b[32mfunction\u001b[39m \u001b[36mdropN\u001b[39m\n",
       "\u001b[36mres8_1\u001b[39m: \u001b[32mList\u001b[39m[\u001b[32mInt\u001b[39m] = \u001b[33mList\u001b[39m(\u001b[32m3\u001b[39m, \u001b[32m4\u001b[39m)"
      ]
     },
     "execution_count": 9,
     "metadata": {},
     "output_type": "execute_result"
    }
   ],
   "source": [
    "def dropN(list:List[Int], n: Int):List[Int] = {\n",
    "    // BEGIN SOLUTION\n",
    "    list match{\n",
    "        case Nil => Nil\n",
    "        case l @ (firstElement :: restOfList) if(length(l)>n) => dropN(restOfList,n)\n",
    "        case l @ firstElement :: restOfList => l\n",
    "    }\n",
    "    // END SOLUTION\n",
    "}\n",
    "dropN(List(1,2,3,4), 2)"
   ]
  },
  {
   "cell_type": "code",
   "execution_count": 10,
   "metadata": {},
   "outputs": [],
   "source": [
    "assert(dropN(List(1,2,3,4), 2) == List(3,4))\n",
    "assert(dropN(List(), 4) == List())"
   ]
  },
  {
   "cell_type": "markdown",
   "metadata": {},
   "source": [
    "### Exercise: Higher Order functions\n",
    "Define a function called `map`. `map` should takes a list of `Int`s, and a function from `Int` to `Int`, then calls the function on each element and makes a new list from the results.\n",
    "\n",
    "For example, the following call:\n",
    "```\n",
    "map(List(1, 2, 3, 4, 5), (x) => x + 1)\n",
    "```\n",
    "should return in the following list\n",
    "```\n",
    "List(2, 3, 4, 5, 6)\n",
    "```"
   ]
  },
  {
   "cell_type": "code",
   "execution_count": 11,
   "metadata": {},
   "outputs": [
    {
     "data": {
      "text/plain": [
       "defined \u001b[32mfunction\u001b[39m \u001b[36mmap\u001b[39m"
      ]
     },
     "execution_count": 11,
     "metadata": {},
     "output_type": "execute_result"
    }
   ],
   "source": [
    "// BEGIN SOLUTION\n",
    "def map(l: List[Int], f: (Int) => Int): List[Int] = l match {\n",
    "    case Nil => Nil\n",
    "    case e :: rest => f(e) :: map(rest, f)\n",
    "}\n",
    "// END SOLUTION"
   ]
  },
  {
   "cell_type": "code",
   "execution_count": 12,
   "metadata": {},
   "outputs": [],
   "source": [
    "assert(map(List(), _ + 1) == List())\n",
    "assert(map(List(1), _ + 1) == List(2))\n",
    "assert(map(List(1, 9, 2), _ + 1) == List(2, 10, 3))"
   ]
  },
  {
   "cell_type": "markdown",
   "metadata": {},
   "source": [
    "## ASTs\n",
    "We'll be reusing the AST for sets from the previous recitation (removing the complement operator). Use Scala lists as your underlying datatype to represent sets (even though it won't be very efficient):\n",
    "\n",
    "$$\n",
    "\\begin{array}{rcl}\n",
    "    \\textbf{Set} & \\rightarrow & Empty \\\\\n",
    "                 &           | & Cons(\\textbf{Int}, \\textbf{Set}) \\\\\n",
    "                 &           | & Intersection(\\textbf{Set}, \\textbf{Set}) \\\\\n",
    "                 &           | & Union(\\textbf{Set}, \\textbf{Set}) \\\\\n",
    "                 &           | & Subtraction(\\textbf{Set}, \\textbf{Set}) \\\\\n",
    "\\end{array}\n",
    "$$\n",
    "\n",
    "One last little note: $\\textbf{Int}$ and $\\textbf{Set}$ are switched from last week to match with Scala's `::` and the lecture."
   ]
  },
  {
   "cell_type": "code",
   "execution_count": 13,
   "metadata": {},
   "outputs": [
    {
     "data": {
      "text/plain": [
       "defined \u001b[32mtrait\u001b[39m \u001b[36mSet\u001b[39m\n",
       "defined \u001b[32mobject\u001b[39m \u001b[36mEmpty\u001b[39m\n",
       "defined \u001b[32mclass\u001b[39m \u001b[36mCons\u001b[39m\n",
       "defined \u001b[32mclass\u001b[39m \u001b[36mIntersection\u001b[39m\n",
       "defined \u001b[32mclass\u001b[39m \u001b[36mUnion\u001b[39m\n",
       "defined \u001b[32mclass\u001b[39m \u001b[36mSubtraction\u001b[39m"
      ]
     },
     "execution_count": 13,
     "metadata": {},
     "output_type": "execute_result"
    }
   ],
   "source": [
    "sealed trait Set\n",
    "case object Empty extends Set\n",
    "case class Cons(n: Int, s: Set) extends Set\n",
    "// Removed\n",
    "// case class Complement(s: Set) extends Set\n",
    "case class Intersection(s1: Set, s2: Set) extends Set\n",
    "case class Union(s1: Set, s2: Set) extends Set\n",
    "case class Subtraction(s1: Set, s2: Set) extends Set"
   ]
  },
  {
   "cell_type": "markdown",
   "metadata": {},
   "source": [
    "### Exercise: Interpreter\n",
    "Write an interpreter for the language of sets you've created. Don't worry about duplicates in the list (unless they need to be removed).\n",
    "\n",
    "```\n",
    "List.++:       (List[Int], List[Int])      => List[Int]\n",
    "List.filter:   (List[Int], Int => Boolean) => List[Int]\n",
    "List.contains: (List[Int], Int)            => Boolean\n",
    "```"
   ]
  },
  {
   "cell_type": "code",
   "execution_count": 14,
   "metadata": {},
   "outputs": [
    {
     "data": {
      "text/plain": [
       "defined \u001b[32mfunction\u001b[39m \u001b[36meval\u001b[39m\n",
       "\u001b[36mres13_1\u001b[39m: \u001b[32mList\u001b[39m[\u001b[32mInt\u001b[39m] = \u001b[33mList\u001b[39m(\u001b[32m1\u001b[39m, \u001b[32m1\u001b[39m)"
      ]
     },
     "execution_count": 14,
     "metadata": {},
     "output_type": "execute_result"
    }
   ],
   "source": [
    "def eval(set_expression: Set): List[Int] = {\n",
    "    // BEGIN SOLUTION\n",
    "    set_expression match {\n",
    "        case Empty => Nil\n",
    "        case Cons(n, s) => n :: eval(s)\n",
    "        case Intersection(s1, s2) => {\n",
    "            val s2_list = eval(s2)\n",
    "            eval(s1).filter(n => s2_list.contains(n))\n",
    "        }\n",
    "        case Union(s1, s2) => eval(s1) ++ eval(s2)\n",
    "        case Subtraction(s1, s2) => {\n",
    "            val s2_list = eval(s2)\n",
    "            eval(s1).filter(n => !s2_list.contains(n))\n",
    "        }\n",
    "    }\n",
    "    // END SOLUTION\n",
    "}\n",
    "eval(Union(Cons(1,Empty), Cons(1,Empty)))"
   ]
  },
  {
   "cell_type": "code",
   "execution_count": 15,
   "metadata": {},
   "outputs": [
    {
     "data": {
      "text/plain": [
       "\u001b[36mset_1_2\u001b[39m: \u001b[32mCons\u001b[39m = \u001b[33mCons\u001b[39m(\u001b[32m1\u001b[39m, \u001b[33mCons\u001b[39m(\u001b[32m2\u001b[39m, Empty))\n",
       "\u001b[36mset_1_2_3\u001b[39m: \u001b[32mCons\u001b[39m = \u001b[33mCons\u001b[39m(\u001b[32m1\u001b[39m, \u001b[33mCons\u001b[39m(\u001b[32m2\u001b[39m, \u001b[33mCons\u001b[39m(\u001b[32m3\u001b[39m, Empty)))\n",
       "\u001b[36mset_3\u001b[39m: \u001b[32mCons\u001b[39m = \u001b[33mCons\u001b[39m(\u001b[32m3\u001b[39m, Empty)"
      ]
     },
     "execution_count": 15,
     "metadata": {},
     "output_type": "execute_result"
    }
   ],
   "source": [
    "val set_1_2 = Cons(1, Cons(2, Empty))\n",
    "val set_1_2_3 = Cons(1, Cons(2, Cons(3, Empty)))\n",
    "val set_3 = Cons(3, Empty)\n",
    "\n",
    "assert(eval(Empty) == List())\n",
    "assert(eval(set_1_2) == List(1, 2))\n",
    "assert(eval(Union(set_1_2, set_3)) == List(1, 2, 3))\n",
    "assert(eval(Intersection(set_1_2, set_1_2_3)) == List(1, 2))\n",
    "assert(eval(Subtraction(set_1_2, set_1_2_3)) == List())"
   ]
  }
 ],
 "metadata": {
  "kernelspec": {
   "display_name": "Scala",
   "language": "scala",
   "name": "scala"
  },
  "language_info": {
   "codemirror_mode": "text/x-scala",
   "file_extension": ".scala",
   "mimetype": "text/x-scala",
   "name": "scala",
   "nbconvert_exporter": "script",
   "version": "2.12.10"
  }
 },
 "nbformat": 4,
 "nbformat_minor": 2
}
